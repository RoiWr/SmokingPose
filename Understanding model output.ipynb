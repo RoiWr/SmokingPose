{
 "cells": [
  {
   "cell_type": "code",
   "execution_count": 10,
   "metadata": {},
   "outputs": [],
   "source": [
    "import pickle\n",
    "import numpy as np"
   ]
  },
  {
   "cell_type": "code",
   "execution_count": 4,
   "metadata": {},
   "outputs": [],
   "source": [
    "DATA_FILE_PATH = 'smokin2mp4.pkl'\n",
    "with open(DATA_FILE_PATH, 'rb') as file:\n",
    "    data = pickle.load(file)"
   ]
  },
  {
   "cell_type": "markdown",
   "metadata": {},
   "source": [
    "## data format: list of dicts for the analyzed frames of the following fields:\n",
    "{'frame_id', 'body_parts', 'all_peaks', 'subset', 'candiate'}"
   ]
  },
  {
   "cell_type": "code",
   "execution_count": 16,
   "metadata": {},
   "outputs": [
    {
     "data": {
      "text/plain": [
       "19"
      ]
     },
     "execution_count": 16,
     "metadata": {},
     "output_type": "execute_result"
    }
   ],
   "source": [
    "COCO_BODY_PARTS = ['nose', 'neck',\n",
    "                   'right_shoulder', ' right_elbow', 'right_wrist',\n",
    "                   'left_shoulder', 'left_elbow', 'left_wrist',\n",
    "                   'right_hip', 'right_knee', 'right_ankle',\n",
    "                   'left_hip', 'left_knee', 'left_ankle',\n",
    "                   'right_eye', 'left_eye', 'right_ear', 'left_ear', 'background'\n",
    "                   ]\n",
    "len(COCO_BODY_PARTS)"
   ]
  },
  {
   "cell_type": "markdown",
   "metadata": {},
   "source": [
    "## body parts\n",
    "one example of coordiinates for every COCO body part. USELESS"
   ]
  },
  {
   "cell_type": "code",
   "execution_count": 21,
   "metadata": {},
   "outputs": [
    {
     "data": {
      "text/plain": [
       "array({'nose': (230, 87), 'neck': (145, 100), 'right_shoulder': (228, 97), ' right_elbow': (127, 114), 'right_wrist': (130, 129), 'left_shoulder': (157, 100), 'left_elbow': (159, 121), 'left_wrist': (145, 133), 'right_hip': (229, 134), 'right_knee': (226, 156), 'right_ankle': (223, 174), 'left_hip': (154, 134), 'left_knee': (153, 160), 'left_ankle': (151, 184), 'right_eye': (229, 84), 'left_eye': (233, 84), 'right_ear': (138, 88), 'left_ear': (241, 85)},\n",
       "      dtype=object)"
      ]
     },
     "execution_count": 21,
     "metadata": {},
     "output_type": "execute_result"
    }
   ],
   "source": [
    "body_parts = np.array(data[25]['body_parts'])\n",
    "body_parts"
   ]
  },
  {
   "cell_type": "markdown",
   "metadata": {},
   "source": [
    "## all_peaks\n",
    "a list of lists each corresponding to a COCO body part made of tuples of the following format of locs:\n",
    "(x, y, confidence, peak_id)"
   ]
  },
  {
   "cell_type": "code",
   "execution_count": 12,
   "metadata": {},
   "outputs": [
    {
     "data": {
      "text/plain": [
       "array([list([(234, 87, 0.9083782434463501, 0), (181, 96, 0.5591726899147034, 1)]),\n",
       "       list([(169, 99, 0.765608012676239, 2), (241, 100, 0.9036915898323059, 3), (196, 118, 0.8418397307395935, 4)]),\n",
       "       list([(230, 97, 0.864372193813324, 5), (163, 100, 0.8208009600639343, 6), (210, 124, 0.8031818270683289, 7)]),\n",
       "       list([(227, 114, 0.7221102118492126, 8), (158, 120, 0.8832500576972961, 9), (215, 151, 0.8135343790054321, 10)]),\n",
       "       list([(178, 115, 0.6068695187568665, 11), (226, 129, 0.6727707982063293, 12), (232, 157, 0.5008898377418518, 13)]),\n",
       "       list([(177, 99, 0.5348705053329468, 14), (251, 103, 0.8400102257728577, 15), (182, 113, 0.7927486896514893, 16)]),\n",
       "       list([(252, 124, 0.8243544101715088, 17)]),\n",
       "       list([(244, 142, 0.7252730131149292, 18)]),\n",
       "       list([(167, 134, 0.8585205674171448, 19), (230, 134, 0.7712255120277405, 20), (204, 167, 0.680644690990448, 21)]),\n",
       "       list([(226, 155, 0.8229906558990479, 22), (167, 157, 0.8823679089546204, 23), (201, 197, 0.7733970284461975, 24)]),\n",
       "       list([(224, 175, 0.8872216939926147, 25), (165, 180, 0.9053114056587219, 26), (197, 223, 0.406983345746994, 27)]),\n",
       "       list([(177, 133, 0.7303912043571472, 28), (242, 137, 0.7648066282272339, 29), (189, 163, 0.6958182454109192, 30)]),\n",
       "       list([(175, 155, 0.7930884957313538, 31), (238, 161, 0.7691529393196106, 32), (187, 193, 0.7661322355270386, 33)]),\n",
       "       list([(173, 173, 0.8188678026199341, 34), (236, 184, 0.8541661500930786, 35), (184, 216, 0.4622024595737457, 36)]),\n",
       "       list([(233, 83, 0.8554295301437378, 37), (179, 93, 0.5754064917564392, 38)]),\n",
       "       list([(237, 84, 0.9530988931655884, 39), (184, 94, 0.269801527261734, 40)]),\n",
       "       list([(174, 90, 0.5507457852363586, 41), (207, 97, 0.7828583121299744, 42)]),\n",
       "       list([(244, 85, 0.8881293535232544, 43), (191, 96, 0.3839954733848572, 44)])],\n",
       "      dtype=object)"
      ]
     },
     "execution_count": 12,
     "metadata": {},
     "output_type": "execute_result"
    }
   ],
   "source": [
    "all_peaks = np.array(data[0]['all_peaks'])\n",
    "all_peaks"
   ]
  },
  {
   "cell_type": "markdown",
   "metadata": {},
   "source": [
    "## subset\n",
    "an array in which each row corresponds to a different \"object\" with the row items indicating the peak_id's in all_peaks. the column index corresponds to the COCO body part index\n",
    "\n",
    "    # last number in each row is the total parts number of that person\n",
    "    # the second last number in each row is the score of the overall configuration"
   ]
  },
  {
   "cell_type": "code",
   "execution_count": 17,
   "metadata": {},
   "outputs": [
    {
     "data": {
      "text/plain": [
       "array([[ 0.        ,  3.        ,  5.        ,  8.        , 12.        ,\n",
       "        15.        , 17.        , 18.        , 20.        , 22.        ,\n",
       "        25.        , 29.        , 32.        , 35.        , 37.        ,\n",
       "        39.        , -1.        , 43.        , 28.89961997, 17.        ],\n",
       "       [-1.        ,  4.        ,  7.        , 10.        , 13.        ,\n",
       "        16.        , -1.        , -1.        , 21.        , 24.        ,\n",
       "        27.        , 30.        , 33.        , 36.        , -1.        ,\n",
       "        -1.        , 42.        , 44.        , 18.56997137, 13.        ],\n",
       "       [ 1.        ,  2.        ,  6.        ,  9.        , 11.        ,\n",
       "        14.        , -1.        , -1.        , 19.        , 23.        ,\n",
       "        26.        , 28.        , 31.        , 34.        , 38.        ,\n",
       "        40.        , 41.        , -1.        , 21.81312792, 15.        ]])"
      ]
     },
     "execution_count": 17,
     "metadata": {},
     "output_type": "execute_result"
    }
   ],
   "source": [
    "subset = np.array(data[0]['subset'])\n",
    "subset"
   ]
  },
  {
   "cell_type": "markdown",
   "metadata": {},
   "source": [
    "## Candidate\n",
    "array in which each row is one of the peaks, same as each tuple in all_peaks"
   ]
  },
  {
   "cell_type": "code",
   "execution_count": 19,
   "metadata": {},
   "outputs": [
    {
     "data": {
      "text/plain": [
       "array([[234.        ,  87.        ,   0.90837824,   0.        ],\n",
       "       [181.        ,  96.        ,   0.55917269,   1.        ],\n",
       "       [169.        ,  99.        ,   0.76560801,   2.        ],\n",
       "       [241.        , 100.        ,   0.90369159,   3.        ],\n",
       "       [196.        , 118.        ,   0.84183973,   4.        ],\n",
       "       [230.        ,  97.        ,   0.86437219,   5.        ],\n",
       "       [163.        , 100.        ,   0.82080096,   6.        ],\n",
       "       [210.        , 124.        ,   0.80318183,   7.        ],\n",
       "       [227.        , 114.        ,   0.72211021,   8.        ],\n",
       "       [158.        , 120.        ,   0.88325006,   9.        ],\n",
       "       [215.        , 151.        ,   0.81353438,  10.        ],\n",
       "       [178.        , 115.        ,   0.60686952,  11.        ],\n",
       "       [226.        , 129.        ,   0.6727708 ,  12.        ],\n",
       "       [232.        , 157.        ,   0.50088984,  13.        ],\n",
       "       [177.        ,  99.        ,   0.53487051,  14.        ],\n",
       "       [251.        , 103.        ,   0.84001023,  15.        ],\n",
       "       [182.        , 113.        ,   0.79274869,  16.        ],\n",
       "       [252.        , 124.        ,   0.82435441,  17.        ],\n",
       "       [244.        , 142.        ,   0.72527301,  18.        ],\n",
       "       [167.        , 134.        ,   0.85852057,  19.        ],\n",
       "       [230.        , 134.        ,   0.77122551,  20.        ],\n",
       "       [204.        , 167.        ,   0.68064469,  21.        ],\n",
       "       [226.        , 155.        ,   0.82299066,  22.        ],\n",
       "       [167.        , 157.        ,   0.88236791,  23.        ],\n",
       "       [201.        , 197.        ,   0.77339703,  24.        ],\n",
       "       [224.        , 175.        ,   0.88722169,  25.        ],\n",
       "       [165.        , 180.        ,   0.90531141,  26.        ],\n",
       "       [197.        , 223.        ,   0.40698335,  27.        ],\n",
       "       [177.        , 133.        ,   0.7303912 ,  28.        ],\n",
       "       [242.        , 137.        ,   0.76480663,  29.        ],\n",
       "       [189.        , 163.        ,   0.69581825,  30.        ],\n",
       "       [175.        , 155.        ,   0.7930885 ,  31.        ],\n",
       "       [238.        , 161.        ,   0.76915294,  32.        ],\n",
       "       [187.        , 193.        ,   0.76613224,  33.        ],\n",
       "       [173.        , 173.        ,   0.8188678 ,  34.        ],\n",
       "       [236.        , 184.        ,   0.85416615,  35.        ],\n",
       "       [184.        , 216.        ,   0.46220246,  36.        ],\n",
       "       [233.        ,  83.        ,   0.85542953,  37.        ],\n",
       "       [179.        ,  93.        ,   0.57540649,  38.        ],\n",
       "       [237.        ,  84.        ,   0.95309889,  39.        ],\n",
       "       [184.        ,  94.        ,   0.26980153,  40.        ],\n",
       "       [174.        ,  90.        ,   0.55074579,  41.        ],\n",
       "       [207.        ,  97.        ,   0.78285831,  42.        ],\n",
       "       [244.        ,  85.        ,   0.88812935,  43.        ],\n",
       "       [191.        ,  96.        ,   0.38399547,  44.        ]])"
      ]
     },
     "execution_count": 19,
     "metadata": {},
     "output_type": "execute_result"
    }
   ],
   "source": [
    "candidate = np.array(data[0]['candidate'])\n",
    "candidate"
   ]
  },
  {
   "cell_type": "markdown",
   "metadata": {},
   "source": []
  }
 ],
 "metadata": {
  "kernelspec": {
   "display_name": "Python 3",
   "language": "python",
   "name": "python3"
  },
  "language_info": {
   "codemirror_mode": {
    "name": "ipython",
    "version": 3
   },
   "file_extension": ".py",
   "mimetype": "text/x-python",
   "name": "python",
   "nbconvert_exporter": "python",
   "pygments_lexer": "ipython3",
   "version": "3.6.9"
  },
  "latex_envs": {
   "LaTeX_envs_menu_present": true,
   "autoclose": false,
   "autocomplete": true,
   "bibliofile": "biblio.bib",
   "cite_by": "apalike",
   "current_citInitial": 1,
   "eqLabelWithNumbers": true,
   "eqNumInitial": 1,
   "hotkeys": {
    "equation": "Ctrl-E",
    "itemize": "Ctrl-I"
   },
   "labels_anchors": false,
   "latex_user_defs": false,
   "report_style_numbering": false,
   "user_envs_cfg": false
  },
  "toc": {
   "base_numbering": 1,
   "nav_menu": {},
   "number_sections": true,
   "sideBar": true,
   "skip_h1_title": false,
   "title_cell": "Table of Contents",
   "title_sidebar": "Contents",
   "toc_cell": false,
   "toc_position": {},
   "toc_section_display": true,
   "toc_window_display": false
  },
  "varInspector": {
   "cols": {
    "lenName": 16,
    "lenType": 16,
    "lenVar": 40
   },
   "kernels_config": {
    "python": {
     "delete_cmd_postfix": "",
     "delete_cmd_prefix": "del ",
     "library": "var_list.py",
     "varRefreshCmd": "print(var_dic_list())"
    },
    "r": {
     "delete_cmd_postfix": ") ",
     "delete_cmd_prefix": "rm(",
     "library": "var_list.r",
     "varRefreshCmd": "cat(var_dic_list()) "
    }
   },
   "types_to_exclude": [
    "module",
    "function",
    "builtin_function_or_method",
    "instance",
    "_Feature"
   ],
   "window_display": false
  }
 },
 "nbformat": 4,
 "nbformat_minor": 2
}
